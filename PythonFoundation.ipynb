{
  "nbformat": 4,
  "nbformat_minor": 0,
  "metadata": {
    "colab": {
      "provenance": []
    },
    "kernelspec": {
      "name": "python3",
      "display_name": "Python 3"
    },
    "language_info": {
      "name": "python"
    }
  },
  "cells": [
    {
      "cell_type": "markdown",
      "source": [
        "1. Identifikasi dan jelaskan Tipe data apa saja yang ada pada data frame ada berapa kolom dan baris, serta informasi apa saja yang terkandung dalam data tersebut"
      ],
      "metadata": {
        "id": "VbL_VaChNXtM"
      }
    },
    {
      "cell_type": "code",
      "source": [
        "import pandas as pd\n",
        "\n",
        "url = 'https://raw.githubusercontent.com/MTOZZ/PtythonFoundation/refs/heads/main/DataSet.csv'\n",
        "df = pd.read_csv(url)\n",
        "\n",
        "df['Berat Badan (Kg)'] = pd.to_numeric(df['Berat Badan (Kg)'], errors='coerce')\n",
        "df['Tinggi Badan (Cm)'] = pd.to_numeric(df['Tinggi Badan (Cm)'], errors='coerce')\n",
        "\n",
        "df = df.drop(columns=['Timestamp'])\n",
        "\n",
        "print(df.dtypes)\n",
        "print(df.head(25))"
      ],
      "metadata": {
        "id": "uQDuVovbOH2e"
      },
      "execution_count": null,
      "outputs": []
    },
    {
      "cell_type": "markdown",
      "source": [
        "data set tersebut memiliki 5 kolom dan memiliki 25 baris, dimana kolom tersebut yaitu,\n",
        "1. No. Peserta\n",
        "2. Nama\n",
        "3. Jurusan\n",
        "4. Berat badan\n",
        "5. tinggi badan\n",
        "memiliki tipe data object/string dan juga integert dimana tipe data integert yaitu Berat badan dan Tinggi badan.\n",
        "\n",
        "informasi yang didapatkan yaitu setiap peserta memiliki bermacam-macam berat badan dan juga tinggi badan, dimana berat badan paling tinggi yaitu di angka 110 dan tinggi badan di angka 180"
      ],
      "metadata": {
        "id": "xqUzmiOLN7g0"
      }
    },
    {
      "cell_type": "markdown",
      "source": [
        "2. Hitunglah BMI setiap siswa dengan RUMUS BMI, masukkan hasil perhitungan pada dataframe"
      ],
      "metadata": {
        "id": "HUQ0jqYkZKrY"
      }
    },
    {
      "cell_type": "code",
      "source": [
        "import pandas as pd\n",
        "\n",
        "url = 'https://raw.githubusercontent.com/MTOZZ/PtythonFoundation/refs/heads/main/DataSet.csv'\n",
        "df = pd.read_csv(url)\n",
        "\n",
        "df['Berat Badan (Kg)'] = pd.to_numeric(df['Berat Badan (Kg)'], errors='coerce')\n",
        "df['Tinggi Badan (Cm)'] = pd.to_numeric(df['Tinggi Badan (Cm)'], errors='coerce')\n",
        "\n",
        "df = df.drop(columns=['Timestamp'])\n",
        "\n",
        "\n",
        "df['BMI'] = round (df['Berat Badan (Kg)'] / (df['Tinggi Badan (Cm)'] / 100) ** 2,2)\n",
        "\n",
        "\n",
        "print(df.head(25))"
      ],
      "metadata": {
        "id": "-PGvXQpiTOPF"
      },
      "execution_count": null,
      "outputs": []
    },
    {
      "cell_type": "markdown",
      "source": [
        "dimana kami menambahkan 1 baris kode untuk menghitung BMI dan memasukkannya pada dataframe df['BMI'] = round (df['Berat Badan (Kg)'] / (df['Tinggi Badan (Cm)'] / 100) ** 2,2), dimana saya menambahkan fungsi round untuk membatasi angka dibelakang koma.\n",
        "informasi yang didapatkan yaitu setiap siswa memiliki BMI yang berbeda yang mana hasil BMI tersebut dari perhitungan tinggi badan dan berat badan"
      ],
      "metadata": {
        "id": "VZp2VJCyZo1r"
      }
    },
    {
      "cell_type": "markdown",
      "source": [
        "3. Buatlah Program untuk menghitung BMI"
      ],
      "metadata": {
        "id": "idN11O_naz0U"
      }
    },
    {
      "cell_type": "code",
      "source": [
        "def programHitung_bmi():\n",
        "    try:\n",
        "        berat_badan = float(input(\"Masukkan Berat Badan (Kg) :\"))\n",
        "        tinggi_badan = float(input(\"Masukkan Tinggi Badan (Cm) :\"))\n",
        "\n",
        "        #proses perhitungan BMI\n",
        "        tinggi_siswa = tinggi_badan / 100\n",
        "        bmi = berat_badan / (tinggi_siswa ** 2)\n",
        "\n",
        "        print(f\"BMI Kamu adalah : {round(bmi,2)}\")\n",
        "    except ValueError:\n",
        "        print(\"Angka Tidak Valid\")\n",
        "\n",
        "\n",
        "programHitung_bmi()\n"
      ],
      "metadata": {
        "id": "1KDXkPfWaqD9"
      },
      "execution_count": null,
      "outputs": []
    },
    {
      "cell_type": "markdown",
      "source": [
        "kode tersebut merupakan program untuk menghitung fungsi dimana user akan input berat badan dan juga tinggi badan dan akan menampilkan hasil dari berat badan dan tinggi badan"
      ],
      "metadata": {
        "id": "2NXj9RbFd1ne"
      }
    },
    {
      "cell_type": "markdown",
      "source": [
        "4. Buatlah status BMI untuk setiap siswa"
      ],
      "metadata": {
        "id": "k71Oghh1g_Ks"
      }
    },
    {
      "cell_type": "code",
      "source": [
        "import pandas as pd\n",
        "\n",
        "url = 'https://raw.githubusercontent.com/MTOZZ/PtythonFoundation/refs/heads/main/DataSet.csv'\n",
        "df = pd.read_csv(url)\n",
        "\n",
        "df['Berat Badan (Kg)'] = pd.to_numeric(df['Berat Badan (Kg)'], errors='coerce')\n",
        "df['Tinggi Badan (Cm)'] = pd.to_numeric(df['Tinggi Badan (Cm)'], errors='coerce')\n",
        "\n",
        "df = df.drop(columns=['Timestamp'])\n",
        "\n",
        "\n",
        "df['BMI'] = round (df['Berat Badan (Kg)'] / (df['Tinggi Badan (Cm)'] / 100) ** 2,2)\n",
        "\n",
        "def status(bmi):\n",
        "    if bmi < 18.5:\n",
        "        return \"Underweight\"\n",
        "    elif 18.5 <= bmi <= 24.9:\n",
        "        return \"Normal\"\n",
        "    elif 25 <= bmi <= 29.9:\n",
        "        return \"Overweight\"\n",
        "    elif 30 <= bmi <= 34.9:\n",
        "        return \"Obesity\"\n",
        "    else:\n",
        "        return \"Severe Obesity\"\n",
        "\n",
        "df['Status'] = df['BMI'].apply(status)\n",
        "\n",
        "\n",
        "print(df.head(25))"
      ],
      "metadata": {
        "id": "R5Tv1edTeP5m"
      },
      "execution_count": null,
      "outputs": []
    },
    {
      "cell_type": "markdown",
      "source": [
        "dari kode untuk nomor 4 kami menambahkan fungsi untuk fungsi status bmi, dan dari kondisi tersebut terdapat kondisi untuk normal, underweigh, overweigh dan Obesitas"
      ],
      "metadata": {
        "id": "w1SJgWvrhHHg"
      }
    },
    {
      "cell_type": "markdown",
      "source": [
        "5. urutkan data berdasarkan tinggi badan dari yang tertinggi ke rendah dan urutkan data berdasarkan nama"
      ],
      "metadata": {
        "id": "LYA_bWyuhooj"
      }
    },
    {
      "cell_type": "code",
      "source": [
        "import pandas as pd\n",
        "\n",
        "url = 'https://raw.githubusercontent.com/MTOZZ/PtythonFoundation/refs/heads/main/DataSet.csv'\n",
        "df = pd.read_csv(url)\n",
        "\n",
        "df['Berat Badan (Kg)'] = pd.to_numeric(df['Berat Badan (Kg)'], errors='coerce')\n",
        "df['Tinggi Badan (Cm)'] = pd.to_numeric(df['Tinggi Badan (Cm)'], errors='coerce')\n",
        "\n",
        "df = df.drop(columns=['Timestamp'])\n",
        "\n",
        "\n",
        "df['BMI'] = round (df['Berat Badan (Kg)'] / (df['Tinggi Badan (Cm)'] / 100) ** 2,2)\n",
        "\n",
        "def status(bmi):\n",
        "    if bmi < 18.5:\n",
        "        return \"Underweight\"\n",
        "    elif 18.5 <= bmi <= 24.9:\n",
        "        return \"Normal\"\n",
        "    elif 25 <= bmi <= 29.9:\n",
        "        return \"Overweight\"\n",
        "    elif 30 <= bmi <= 34.9:\n",
        "        return \"Obesity\"\n",
        "    else:\n",
        "        return \"Severe Obesity\"\n",
        "\n",
        "df['Status'] = df['BMI'].apply(status)\n",
        "\n",
        "# 1. Mengurutkan berdasarkan Tinggi Badan\n",
        "df_tinggiBadan = df.sort_values(by='Tinggi Badan (Cm)', ascending=False)\n",
        "print(\"\\n\\n==========================================================\")\n",
        "print(\"DataFrame setelah diurutkan berdasarkan Tinggi Badan (Cm):\")\n",
        "print(\"==========================================================\")\n",
        "print(df_tinggiBadan.head(25))\n",
        "\n",
        "# 2. Mengurutkan berdasarkan Nama berdasarkan abjad\n",
        "df_abjad = df.sort_values(by='Nama', ascending=True)\n",
        "print(\"\\n==========================================================\")\n",
        "print(\"DataFrame setelah diurutkan berdasarkan abjad (A-Z) : \")\n",
        "print(\"==========================================================\")\n",
        "print(df_abjad.head(25))\n",
        "\n",
        "print(\"\\n\\n==========================================================\")\n",
        "print(\"DataFrame awal : \")\n",
        "print(df.head(25))"
      ],
      "metadata": {
        "id": "06aJWtyQiNa0"
      },
      "execution_count": null,
      "outputs": []
    },
    {
      "cell_type": "markdown",
      "source": [
        "di kode tersebut saya menambahkan saya menambahkan kode untuk menampilkan data frame sesuai denga tinggi badan tertinggi dan juga nama sesuai abjad menggunakan fungsi short_value dimana short_value yaitu untuk mengurutkan data dan juga terdapat kode (ascending=false) untuk mengurutkan data dari tertinggi ke rendah ketika saya menggunakan true hasilnya akan mengurutkan dari rendah ke tinggi"
      ],
      "metadata": {
        "id": "KwyuikJLlq8G"
      }
    },
    {
      "cell_type": "markdown",
      "source": [
        "6. Filter Data Frame"
      ],
      "metadata": {
        "id": "-8Kv9EK5mo4Z"
      }
    },
    {
      "cell_type": "code",
      "source": [
        "import pandas as pd\n",
        "\n",
        "url = 'https://raw.githubusercontent.com/MTOZZ/PtythonFoundation/refs/heads/main/DataSet.csv'\n",
        "df = pd.read_csv(url)\n",
        "\n",
        "df['Berat Badan (Kg)'] = pd.to_numeric(df['Berat Badan (Kg)'], errors='coerce')\n",
        "df['Tinggi Badan (Cm)'] = pd.to_numeric(df['Tinggi Badan (Cm)'], errors='coerce')\n",
        "\n",
        "df = df.drop(columns=['Timestamp'])\n",
        "\n",
        "\n",
        "df['BMI'] = round (df['Berat Badan (Kg)'] / (df['Tinggi Badan (Cm)'] / 100) ** 2,2)\n",
        "\n",
        "def status(bmi):\n",
        "    if bmi < 18.5:\n",
        "        return \"Underweight\"\n",
        "    elif 18.5 <= bmi <= 24.9:\n",
        "        return \"Normal\"\n",
        "    elif 25 <= bmi <= 29.9:\n",
        "        return \"Overweight\"\n",
        "    elif 30 <= bmi <= 34.9:\n",
        "        return \"Obesity\"\n",
        "    else:\n",
        "        return \"Severe Obesity\"\n",
        "\n",
        "df['Status'] = df['BMI'].apply(status)\n",
        "\n",
        "print(\"\\n\\n==========================================================\")\n",
        "print(\"DataFrame awal : \")\n",
        "print(df.head(25))\n",
        "\n",
        "df_tinggiBadan = df.sort_values(by='Tinggi Badan (Cm)', ascending=False)\n",
        "print(\"\\n\\n==========================================================\")\n",
        "print(\"DataFrame setelah diurutkan berdasarkan Tinggi Badan (Cm):\")\n",
        "print(\"==========================================================\")\n",
        "print(df_tinggiBadan.head(25))\n",
        "\n",
        "\n",
        "df_abjad = df.sort_values(by='Nama', ascending=True)\n",
        "print(\"\\n==========================================================\")\n",
        "print(\"DataFrame setelah diurutkan berdasarkan abjad (A-Z) : \")\n",
        "print(\"==========================================================\")\n",
        "print(df_abjad.head(25))\n",
        "\n",
        "print(\"\\n\\n==========================================================\")\n",
        "print(\"DataFrame Filter berdasarkan Status : \")\n",
        "print(\"==========================================================\")\n",
        "status_diluar_normal = ['Underweight', 'Overweight', 'Obesity']\n",
        "df_filterstatus = df[df['Status'].isin(status_diluar_normal)]\n",
        "print(df_filterstatus.head(25))\n",
        "\n",
        "print(\"\\n\\n==========================================================\")\n",
        "print(\"DataFrame Filter berdasarkan Tinggi dan Berat badan : \")\n",
        "print(\"==========================================================\")\n",
        "df_filtertinggi = df[(df['Tinggi Badan (Cm)'] > 169) & (df['Berat Badan (Kg)'] > 60 )]\n",
        "print(df_filtertinggi.head(25))\n",
        "\n",
        "print(\"\\n\\n==========================================================\")\n",
        "print(\"DataFrame Filter berdasarkan Nama yang mengandung huruf (Y): \")\n",
        "print(\"==========================================================\")\n",
        "df_filternama = df[df['Nama'].str.startswith('y')]\n",
        "print(df_filternama.head(25))\n",
        "\n",
        "print(\"\\n\\n==========================================================\")\n",
        "print(\"DataFrame Filter berdasarkan berat badan < 60 : \")\n",
        "print(\"==========================================================\")\n",
        "df_filterberat = df[df['Berat Badan (Kg)'] < 60 ]\n",
        "print(df_filterberat.head(25))\n"
      ],
      "metadata": {
        "id": "CPp_nkXJmoSR"
      },
      "execution_count": null,
      "outputs": []
    },
    {
      "cell_type": "markdown",
      "source": [
        "kode diatas untuk filter data pada bagian tertentu, seperti status, tinggi dan berat badan, dan juga berdasarkan nama"
      ],
      "metadata": {
        "id": "VmrJMaUZtzqB"
      }
    },
    {
      "cell_type": "markdown",
      "source": [
        "7. Tambahkan nomor urut"
      ],
      "metadata": {
        "id": "LMxNZDj2uIcQ"
      }
    },
    {
      "cell_type": "code",
      "source": [
        "import pandas as pd\n",
        "\n",
        "url = 'https://raw.githubusercontent.com/MTOZZ/PtythonFoundation/refs/heads/main/DataSet.csv'\n",
        "df = pd.read_csv(url)\n",
        "\n",
        "df['Berat Badan (Kg)'] = pd.to_numeric(df['Berat Badan (Kg)'], errors='coerce')\n",
        "df['Tinggi Badan (Cm)'] = pd.to_numeric(df['Tinggi Badan (Cm)'], errors='coerce')\n",
        "\n",
        "df = df.drop(columns=['Timestamp'])\n",
        "\n",
        "\n",
        "df['BMI'] = round (df['Berat Badan (Kg)'] / (df['Tinggi Badan (Cm)'] / 100) ** 2,2)\n",
        "\n",
        "def status(bmi):\n",
        "    if bmi < 18.5:\n",
        "        return \"Underweight\"\n",
        "    elif 18.5 <= bmi <= 24.9:\n",
        "        return \"Normal\"\n",
        "    elif 25 <= bmi <= 29.9:\n",
        "        return \"Overweight\"\n",
        "    elif 30 <= bmi <= 34.9:\n",
        "        return \"Obesity\"\n",
        "    else:\n",
        "        return \"Severe Obesity\"\n",
        "\n",
        "df['Status'] = df['BMI'].apply(status)\n",
        "\n",
        "df['No'] = range(1, len(df) + 1)\n",
        "columns = ['No'] + [col for col in df.columns if col != 'No']\n",
        "df = df[columns]\n",
        "\n",
        "print(df.head(25))"
      ],
      "metadata": {
        "id": "lD-eXozZshSk"
      },
      "execution_count": null,
      "outputs": []
    },
    {
      "cell_type": "markdown",
      "source": [
        "df['No'] = range(1, len(df) + 1) berikut ini kode untuk menambahkan kolom (No) urut dari panjang total dataframe kenapa menggunakan range karena tidak menyertakan nilai batas atas, menambahkan (+1) untuk menambahkan baris terakhir.\n",
        "\n",
        "kemudian kode untuk mengatur ulang urutan kolom sehingga (No) berada di paling kiri,\n",
        "\n",
        "columns = ['No'] + [col for col in df.columns if col != 'No']\n",
        "df = df[columns].\n",
        "\n",
        "[col for col in df.columns if col != 'No'] digunakan untuk mengambil semua kolom kecuali kolom No\n",
        "\n",
        "['No'] + digunakan untuk memposisikan (No) berada di sebelah kiri atau di kolom pertama\n",
        "\n",
        "df = df[columns] digunakan untuk mengatur ulang dataframe berdasarkan kolom baru yang telah di tambahkan\n",
        "\n",
        "\n"
      ],
      "metadata": {
        "id": "dbnJ1fYnuPLt"
      }
    },
    {
      "cell_type": "markdown",
      "source": [
        "8. cari nilai-nilai\n",
        "  *   Rata-rata Tinggi Badan\n",
        "  *   Rata-rata Berat Badan\n",
        "  *   berapa jumlah siswa yang tercatat pada dataframe\n",
        "  *   5 Orang dengan nilai BMI tertinggi\n",
        "  *   Berapa orang dengan tergolong status    Underweight, Normal, Overweight, dan Obesity\n",
        "\n"
      ],
      "metadata": {
        "id": "3vnZJIMSw7t1"
      }
    },
    {
      "cell_type": "code",
      "source": [
        "import pandas as pd\n",
        "\n",
        "url = 'https://raw.githubusercontent.com/MTOZZ/PtythonFoundation/refs/heads/main/DataSet.csv'\n",
        "df = pd.read_csv(url)\n",
        "\n",
        "df['Berat Badan (Kg)'] = pd.to_numeric(df['Berat Badan (Kg)'], errors='coerce')\n",
        "df['Tinggi Badan (Cm)'] = pd.to_numeric(df['Tinggi Badan (Cm)'], errors='coerce')\n",
        "\n",
        "df = df.drop(columns=['Timestamp'])\n",
        "\n",
        "\n",
        "df['BMI'] = round (df['Berat Badan (Kg)'] / (df['Tinggi Badan (Cm)'] / 100) ** 2,2)\n",
        "\n",
        "def status(bmi):\n",
        "    if bmi < 18.5:\n",
        "        return \"Underweight\"\n",
        "    elif 18.5 <= bmi <= 24.9:\n",
        "        return \"Normal\"\n",
        "    elif 25 <= bmi <= 29.9:\n",
        "        return \"Overweight\"\n",
        "    elif 30 <= bmi <= 34.9:\n",
        "        return \"Obesity\"\n",
        "    else:\n",
        "        return \"Severe Obesity\"\n",
        "\n",
        "df['Status'] = df['BMI'].apply(status)\n",
        "\n",
        "df['No'] = range(1, len(df) + 1)\n",
        "columns = ['No'] + [col for col in df.columns if col != 'No']\n",
        "df = df[columns]\n",
        "\n",
        "rata_rata_tinggi = df['Tinggi Badan (Cm)'].mean()\n",
        "rata_rata_berat = df['Berat Badan (Kg)'].mean()\n",
        "jumlah_siswa = len(df)\n",
        "bmi_tertinggi = df.nlargest(5, 'BMI')\n",
        "status_count = df['Status'].value_counts()\n",
        "\n",
        "print(df.head(25))\n",
        "\n",
        "print(\"\\n==========================================================\")\n",
        "print(f\"Rata-rata Tinggi Badan: {rata_rata_tinggi:.2f} cm\")\n",
        "print(f\"\\nRata-rata Berat Badan: {rata_rata_berat:.2f} kg\")\n",
        "print(f\"\\nJumlah siswa yang tercatat: {jumlah_siswa} orang\")\n",
        "print(\"\\n5 Orang dengan nilai BMI tertinggi:\")\n",
        "print(bmi_tertinggi[['No', 'Nama', 'BMI']])\n",
        "print(\"\\nJumlah orang berdasarkan status BMI:\")\n",
        "print(status_count)\n",
        "print(\"==========================================================\")"
      ],
      "metadata": {
        "id": "STcgunJ7x0UV"
      },
      "execution_count": null,
      "outputs": []
    },
    {
      "cell_type": "markdown",
      "source": [
        ".mean(), digunakan untuk menghitung rata-rata\n",
        "len(df), digunakan untuk menghitung jumlah baris\n",
        "df.nlargest(5, 'BMI'), digunakan untuk mengambil nilai BMI tertinggi (df.nlargest) adalah metode dari pandas untuk mengambil nilai terbesar dalam dataframe berdasarkan kolom tertentu\n",
        "status_count = df['Status'].value_counts(), idgunakan untuk menghitung jumlah orang berdasarkan kategori."
      ],
      "metadata": {
        "id": "z4Rkjx_B1vZD"
      }
    }
  ]
}